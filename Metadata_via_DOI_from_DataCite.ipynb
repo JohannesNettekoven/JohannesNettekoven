{
 "cells": [
  {
   "cell_type": "code",
   "execution_count": 12,
   "id": "2b6a5832",
   "metadata": {},
   "outputs": [],
   "source": [
    "import urllib.request\n",
    "import json"
   ]
  },
  {
   "cell_type": "code",
   "execution_count": 13,
   "id": "f093028d",
   "metadata": {},
   "outputs": [],
   "source": [
    "base_url = \"https://api.datacite.org/application/vnd.datacite.datacite+json/\"\n",
    "doi = \"10.6084/m9.figshare.155613\"\n",
    "full_url = base_url + doi"
   ]
  },
  {
   "cell_type": "code",
   "execution_count": 14,
   "id": "0f6a3414",
   "metadata": {},
   "outputs": [],
   "source": [
    "doi_json_dataset = urllib.request.urlopen(full_url).read()"
   ]
  },
  {
   "cell_type": "code",
   "execution_count": 15,
   "id": "772b7100",
   "metadata": {},
   "outputs": [],
   "source": [
    "doi_dataset = json.loads(doi_json_dataset)"
   ]
  },
  {
   "cell_type": "code",
   "execution_count": 16,
   "id": "27fc108f",
   "metadata": {},
   "outputs": [
    {
     "data": {
      "text/plain": [
       "dict"
      ]
     },
     "execution_count": 16,
     "metadata": {},
     "output_type": "execute_result"
    }
   ],
   "source": [
    "type(doi_dataset)"
   ]
  },
  {
   "cell_type": "code",
   "execution_count": 21,
   "id": "9182c85f",
   "metadata": {},
   "outputs": [
    {
     "data": {
      "text/plain": [
       "{'id': 'https://doi.org/10.6084/m9.figshare.155613',\n",
       " 'doi': '10.6084/M9.FIGSHARE.155613',\n",
       " 'url': 'https://figshare.com/articles/dataset/git_repository_for_paper_on_git_and_reproducible_science/155613',\n",
       " 'types': {'ris': 'DATA',\n",
       "  'bibtex': 'misc',\n",
       "  'citeproc': 'dataset',\n",
       "  'schemaOrg': 'Dataset',\n",
       "  'resourceType': 'Dataset',\n",
       "  'resourceTypeGeneral': 'Dataset'},\n",
       " 'creators': [{'name': 'Ram, Karthik',\n",
       "   'nameType': 'Personal',\n",
       "   'givenName': 'Karthik',\n",
       "   'familyName': 'Ram',\n",
       "   'affiliation': [],\n",
       "   'nameIdentifiers': [{'schemeUri': 'https://orcid.org',\n",
       "     'nameIdentifier': 'https://orcid.org/0000-0002-0233-1757',\n",
       "     'nameIdentifierScheme': 'ORCID'}]}],\n",
       " 'titles': [{'title': 'git repository for paper on git and reproducible science'}],\n",
       " 'publisher': 'figshare',\n",
       " 'container': {},\n",
       " 'subjects': [{'subject': '60102 Bioinformatics', 'subjectScheme': 'FOR'},\n",
       "  {'subject': 'FOS: Computer and information sciences',\n",
       "   'schemeUri': 'http://www.oecd.org/science/inno/38235147.pdf',\n",
       "   'subjectScheme': 'Fields of Science and Technology (FOS)'},\n",
       "  {'subject': 'FOS: Computer and information sciences',\n",
       "   'subjectScheme': 'Fields of Science and Technology (FOS)'}],\n",
       " 'contributors': [],\n",
       " 'dates': [{'date': '2013-02-02', 'dateType': 'Created'},\n",
       "  {'date': '2013-02-11', 'dateType': 'Updated'},\n",
       "  {'date': '2013', 'dateType': 'Issued'}],\n",
       " 'publicationYear': 2013,\n",
       " 'identifiers': [],\n",
       " 'sizes': ['18290097 Bytes'],\n",
       " 'formats': [],\n",
       " 'rightsList': [{'rights': 'Creative Commons Attribution 4.0 International',\n",
       "   'rightsUri': 'https://creativecommons.org/licenses/by/4.0/legalcode',\n",
       "   'schemeUri': 'https://spdx.org/licenses/',\n",
       "   'rightsIdentifier': 'cc-by-4.0',\n",
       "   'rightsIdentifierScheme': 'SPDX'}],\n",
       " 'descriptions': [{'description': \"This is the archived git repostiory for this paper: git can facilitate greater reproducibility and increased transparency in science Paper is currently in press in Source Code in Medicine and Biology and this zipped repo gives you access to the full history of the paper's development.\",\n",
       "   'descriptionType': 'Abstract'}],\n",
       " 'geoLocations': [],\n",
       " 'fundingReferences': [],\n",
       " 'relatedIdentifiers': [],\n",
       " 'schemaVersion': 'http://datacite.org/schema/kernel-4',\n",
       " 'providerId': 'figshare',\n",
       " 'clientId': 'figshare.ars',\n",
       " 'agency': 'datacite',\n",
       " 'state': 'findable'}"
      ]
     },
     "execution_count": 21,
     "metadata": {},
     "output_type": "execute_result"
    }
   ],
   "source": [
    "doi_dataset"
   ]
  },
  {
   "cell_type": "code",
   "execution_count": 17,
   "id": "1f1d1a8a",
   "metadata": {},
   "outputs": [
    {
     "data": {
      "text/plain": [
       "dict_keys(['id', 'doi', 'url', 'types', 'creators', 'titles', 'publisher', 'container', 'subjects', 'contributors', 'dates', 'publicationYear', 'identifiers', 'sizes', 'formats', 'rightsList', 'descriptions', 'geoLocations', 'fundingReferences', 'relatedIdentifiers', 'schemaVersion', 'providerId', 'clientId', 'agency', 'state'])"
      ]
     },
     "execution_count": 17,
     "metadata": {},
     "output_type": "execute_result"
    }
   ],
   "source": [
    "doi_dataset.keys()"
   ]
  },
  {
   "cell_type": "code",
   "execution_count": 18,
   "id": "dc1b8b2f",
   "metadata": {},
   "outputs": [
    {
     "name": "stdout",
     "output_type": "stream",
     "text": [
      "[{'title': 'git repository for paper on git and reproducible science'}]\n"
     ]
    }
   ],
   "source": [
    "print(doi_dataset[\"titles\"])"
   ]
  },
  {
   "cell_type": "code",
   "execution_count": 19,
   "id": "59e2e472",
   "metadata": {},
   "outputs": [
    {
     "name": "stdout",
     "output_type": "stream",
     "text": [
      "{'title': 'git repository for paper on git and reproducible science'}\n"
     ]
    }
   ],
   "source": [
    "print(doi_dataset[\"titles\"][0])"
   ]
  },
  {
   "cell_type": "code",
   "execution_count": 20,
   "id": "1885c3db",
   "metadata": {},
   "outputs": [
    {
     "name": "stdout",
     "output_type": "stream",
     "text": [
      "git repository for paper on git and reproducible science\n"
     ]
    }
   ],
   "source": [
    "print(doi_dataset[\"titles\"][0][\"title\"])"
   ]
  },
  {
   "cell_type": "code",
   "execution_count": 23,
   "id": "08801678",
   "metadata": {},
   "outputs": [
    {
     "name": "stdout",
     "output_type": "stream",
     "text": [
      "{'ris': 'DATA', 'bibtex': 'misc', 'citeproc': 'dataset', 'schemaOrg': 'Dataset', 'resourceType': 'Dataset', 'resourceTypeGeneral': 'Dataset'}\n"
     ]
    }
   ],
   "source": [
    "print(doi_dataset[\"types\"])"
   ]
  },
  {
   "cell_type": "code",
   "execution_count": 24,
   "id": "834877e3",
   "metadata": {},
   "outputs": [
    {
     "name": "stdout",
     "output_type": "stream",
     "text": [
      "Dataset\n"
     ]
    }
   ],
   "source": [
    "print(doi_dataset[\"types\"][\"resourceTypeGeneral\"])"
   ]
  },
  {
   "cell_type": "markdown",
   "id": "a625daa6",
   "metadata": {},
   "source": [
    "DOI Übung"
   ]
  },
  {
   "cell_type": "code",
   "execution_count": 25,
   "id": "dcc7709d",
   "metadata": {},
   "outputs": [],
   "source": [
    "base_url = \"https://api.datacite.org/application/vnd.datacite.datacite+json/\"\n",
    "doi = \"10.6084/m9.figshare.155613\"\n",
    "full_url = base_url + doi\n",
    "\n",
    "doi_json_dataset = urllib.request.urlopen(full_url).read()\n",
    "\n",
    "doi_dataset = json.loads(doi_json_dataset)\n",
    "\n",
    "dois = [\"10.6084/m9.figshare.155613\",\n",
    "        \"10.6084/m9.figshare.153821.v1\",\n",
    "        \"10.7490/f1000research.1115338.1\",\n",
    "        \"10.5281/zenodo.2599866\"]\n",
    "\n",
    "#DOI, ResourceTypeGerneral, title, publisher\n",
    "#for-Schleife"
   ]
  },
  {
   "cell_type": "code",
   "execution_count": 26,
   "id": "bd016b4e",
   "metadata": {},
   "outputs": [
    {
     "name": "stdout",
     "output_type": "stream",
     "text": [
      "{'ris': 'DATA', 'bibtex': 'misc', 'citeproc': 'dataset', 'schemaOrg': 'Dataset', 'resourceType': 'Dataset', 'resourceTypeGeneral': 'Dataset'}\n"
     ]
    }
   ],
   "source": [
    "print(doi_dataset[\"types\"])"
   ]
  },
  {
   "cell_type": "code",
   "execution_count": 38,
   "id": "c3de5b72",
   "metadata": {},
   "outputs": [
    {
     "name": "stdout",
     "output_type": "stream",
     "text": [
      "10.6084/M9.FIGSHARE.155613\n",
      "- git repository for paper on git and reproducible science\n",
      "Dataset\n",
      "figshare\n",
      "-------\n",
      "10.6084/M9.FIGSHARE.153821.V1\n",
      "- git can facilitate greater reproducibility and increased transparency in science\n",
      "Dataset\n",
      "figshare\n",
      "-------\n",
      "10.7490/F1000RESEARCH.1115338.1\n",
      "- The role of the German National Library for Life Sciences ZB MED in the approach to a FAIR Research Data Infrastructure in Agricultural Science embedded in the Life Sciences\n",
      "Other\n",
      "F1000 Research Limited\n",
      "-------\n",
      "10.5281/ZENODO.2599866\n",
      "- Nachnutzbare Awarenessmaterialien für Forschungsdatenmanagement (FDM)\n",
      "Other\n",
      "Zenodo\n",
      "-------\n"
     ]
    }
   ],
   "source": [
    "base_url = \"https://api.datacite.org/application/vnd.datacite.datacite+json/\"\n",
    "dois = [\"10.6084/m9.figshare.155613\",\n",
    "        \"10.6084/m9.figshare.153821.v1\",\n",
    "        \"10.7490/f1000research.1115338.1\",\n",
    "        \"10.5281/zenodo.2599866\"]\n",
    "i = 0\n",
    "\n",
    "for doi in dois:\n",
    "#    doi = dois[i]\n",
    "    full_url = base_url + doi\n",
    "    doi_json_dataset = urllib.request.urlopen(full_url).read()\n",
    "    doi_dataset = json.loads(doi_json_dataset)\n",
    "    print(doi_dataset[\"doi\"])\n",
    "    print(\"- \" + doi_dataset[\"titles\"][0][\"title\"])\n",
    "    print(doi_dataset[\"types\"][\"resourceTypeGeneral\"])\n",
    "    print(doi_dataset[\"publisher\"])\n",
    "    print(\"-------\")"
   ]
  },
  {
   "cell_type": "code",
   "execution_count": 29,
   "id": "f4763815",
   "metadata": {},
   "outputs": [
    {
     "name": "stdout",
     "output_type": "stream",
     "text": [
      "Dataset\n"
     ]
    }
   ],
   "source": []
  },
  {
   "cell_type": "code",
   "execution_count": 33,
   "id": "289e5f13",
   "metadata": {},
   "outputs": [],
   "source": []
  },
  {
   "cell_type": "code",
   "execution_count": null,
   "id": "e6e52233",
   "metadata": {},
   "outputs": [],
   "source": [
    "base_"
   ]
  }
 ],
 "metadata": {
  "kernelspec": {
   "display_name": "Python 3",
   "language": "python",
   "name": "python3"
  },
  "language_info": {
   "codemirror_mode": {
    "name": "ipython",
    "version": 3
   },
   "file_extension": ".py",
   "mimetype": "text/x-python",
   "name": "python",
   "nbconvert_exporter": "python",
   "pygments_lexer": "ipython3",
   "version": "3.8.8"
  }
 },
 "nbformat": 4,
 "nbformat_minor": 5
}
